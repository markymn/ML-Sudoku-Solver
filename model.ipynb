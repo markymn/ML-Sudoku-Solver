{
 "cells": [
  {
   "cell_type": "code",
   "execution_count": null,
   "id": "8347c220-0bc1-4118-8a39-bae56a1fcbed",
   "metadata": {},
   "outputs": [],
   "source": [
    "# Imports"
   ]
  },
  {
   "cell_type": "code",
   "execution_count": 15,
   "id": "66c0854d-402b-470b-b1e1-febe42dba2bb",
   "metadata": {},
   "outputs": [],
   "source": [
    "import os\n",
    "import torch\n",
    "import torch.nn as nn\n",
    "import torch.optim as optim\n",
    "from torchvision import transforms, datasets\n",
    "from torch.utils.data import DataLoader, random_split\n",
    "import matplotlib.pyplot as plt"
   ]
  },
  {
   "cell_type": "code",
   "execution_count": 16,
   "id": "fae83e78-82a8-4317-9e0a-504cd0a540e5",
   "metadata": {},
   "outputs": [],
   "source": [
    "# "
   ]
  },
  {
   "cell_type": "code",
   "execution_count": 25,
   "id": "67f204e3-a202-4ebd-9356-7390333e3207",
   "metadata": {},
   "outputs": [
    {
     "data": {
      "text/plain": [
       "10160"
      ]
     },
     "execution_count": 25,
     "metadata": {},
     "output_type": "execute_result"
    }
   ],
   "source": [
    "data_path = \"C:/Users/markn/PycharmProjects/ML-Sudoku-Solver/editted_dataset\"\n",
    "\n",
    "transform = transforms.Compose([transforms.ToTensor()])\n",
    "\n",
    "X = datasets.ImageFolder(root=data_path, transform=transform)\n",
    "\n",
    "train_size = int(0.8 * len(X))\n",
    "test_size = len(X) - train_size\n",
    "X_train, X_test = random_split(X, [train_size, test_size])\n",
    "\n",
    "train_size = int(0.8 * len(X_train))\n",
    "val_size = len(X_train) - train_size\n",
    "X_train, X_val = random_split(X_train, [train_size, val_size])\n",
    "\n",
    "train_loader = DataLoader(X_train, batch_size=64, shuffle = True)\n",
    "val_loader = DataLoader(X_val, batch_size=64, shuffle = False)\n",
    "test_loader = DataLoader(X_test, batch_size=64, shuffle = False)"
   ]
  },
  {
   "cell_type": "code",
   "execution_count": 21,
   "id": "f963ed33-1e2e-4fe8-bd02-8559b595433b",
   "metadata": {},
   "outputs": [],
   "source": [
    "#"
   ]
  },
  {
   "cell_type": "code",
   "execution_count": null,
   "id": "eb101200-3ea9-466a-8aaa-9bca1f07d49f",
   "metadata": {},
   "outputs": [],
   "source": [
    "class DigitClassifierCNN(nn.Module):\n",
    "    def __init(self):\n",
    "        super(DigitClassifierCNN, self).__init()\n",
    "\n",
    "        self.con1\n",
    "\n",
    "    def forward(self, x):\n",
    "\n",
    "\n",
    "\n",
    "model = DigitClassifierCNN()"
   ]
  },
  {
   "cell_type": "code",
   "execution_count": null,
   "id": "c0ed09d9-93c8-4c31-bd4b-d7c6acd2c7e5",
   "metadata": {},
   "outputs": [],
   "source": [
    "criterion = nn.CrossEntropyLoss()\n",
    "optimizer = optimAdam(model.parameters(), lr=0.001)"
   ]
  }
 ],
 "metadata": {
  "kernelspec": {
   "display_name": "Python 3 (ipykernel)",
   "language": "python",
   "name": "python3"
  },
  "language_info": {
   "codemirror_mode": {
    "name": "ipython",
    "version": 3
   },
   "file_extension": ".py",
   "mimetype": "text/x-python",
   "name": "python",
   "nbconvert_exporter": "python",
   "pygments_lexer": "ipython3",
   "version": "3.11.9"
  }
 },
 "nbformat": 4,
 "nbformat_minor": 5
}
