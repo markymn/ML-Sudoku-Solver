{
 "cells": [
  {
   "cell_type": "code",
   "execution_count": null,
   "id": "8347c220-0bc1-4118-8a39-bae56a1fcbed",
   "metadata": {},
   "outputs": [],
   "source": [
    "# Imports"
   ]
  },
  {
   "cell_type": "code",
   "execution_count": 16,
   "id": "66c0854d-402b-470b-b1e1-febe42dba2bb",
   "metadata": {},
   "outputs": [],
   "source": [
    "import os\n",
    "import torch\n",
    "import torch.nn as nn\n",
    "import torch.optim as optim\n",
    "import torch.nn.functional as F\n",
    "from torchvision import transforms, datasets\n",
    "from torch.utils.data import DataLoader, random_split\n",
    "import matplotlib.pyplot as plt"
   ]
  },
  {
   "cell_type": "code",
   "execution_count": 35,
   "id": "fae83e78-82a8-4317-9e0a-504cd0a540e5",
   "metadata": {},
   "outputs": [],
   "source": [
    "# Create the train, test and validation sets and loaders"
   ]
  },
  {
   "cell_type": "code",
   "execution_count": 25,
   "id": "67f204e3-a202-4ebd-9356-7390333e3207",
   "metadata": {},
   "outputs": [],
   "source": [
    "device = torch.device(\"cpu\")\n",
    "\n",
    "data_path = \"C:/Users/markn/PycharmProjects/ML-Sudoku-Solver/editted_dataset\"\n",
    "\n",
    "transform = transforms.Compose([\n",
    "    transforms.Grayscale(num_output_channels=1),\n",
    "    transforms.ToTensor()\n",
    "])\n",
    "\n",
    "X = datasets.ImageFolder(root=data_path, transform=transform)\n",
    "\n",
    "train_size = int(0.8 * len(X))\n",
    "test_size = len(X) - train_size\n",
    "X_train, X_test = random_split(X, [train_size, test_size])\n",
    "\n",
    "train_size = int(0.8 * len(X_train))\n",
    "val_size = len(X_train) - train_size\n",
    "X_train, X_val = random_split(X_train, [train_size, val_size])\n",
    "\n",
    "train_loader = DataLoader(X_train, batch_size=64, shuffle=True)\n",
    "val_loader = DataLoader(X_val, batch_size=64, shuffle=False)\n",
    "test_loader = DataLoader(X_test, batch_size=64, shuffle=False)"
   ]
  },
  {
   "cell_type": "code",
   "execution_count": 36,
   "id": "f963ed33-1e2e-4fe8-bd02-8559b595433b",
   "metadata": {},
   "outputs": [],
   "source": [
    "# Create the CNN"
   ]
  },
  {
   "cell_type": "code",
   "execution_count": 27,
   "id": "eb101200-3ea9-466a-8aaa-9bca1f07d49f",
   "metadata": {},
   "outputs": [],
   "source": [
    "class DigitClassifierCNN(nn.Module):\n",
    "    def __init__(self):\n",
    "        super(DigitClassifierCNN, self).__init__()\n",
    "        \n",
    "        self.conv1 = nn.Conv2d(1, 10, kernel_size=5)\n",
    "        self.conv2 = nn.Conv2d(10, 20, kernel_size=5)\n",
    "        self.conv2_drop = nn.Dropout2d()\n",
    "        self.fc1 = nn.Linear(320, 50)\n",
    "        self.fc2 = nn.Linear(50, 10)\n",
    "\n",
    "    def forward(self, x):\n",
    "        x = F.relu(F.max_pool2d(self.conv1(x), 2))\n",
    "        x = F.relu(F.max_pool2d(self.conv2_drop(self.conv2(x)), 2))\n",
    "        x = x.view(-1, 320)\n",
    "        x = F.relu(self.fc1(x))\n",
    "        x = F.dropout(x, training=self.training)\n",
    "        x = self.fc2(x)\n",
    "\n",
    "        return x"
   ]
  },
  {
   "cell_type": "code",
   "execution_count": 37,
   "id": "6dda77da-6983-48b8-a840-26d17e519f62",
   "metadata": {},
   "outputs": [],
   "source": [
    "# Instantiate the model and loss function"
   ]
  },
  {
   "cell_type": "code",
   "execution_count": 32,
   "id": "c0ed09d9-93c8-4c31-bd4b-d7c6acd2c7e5",
   "metadata": {},
   "outputs": [],
   "source": [
    "model = DigitClassifierCNN()\n",
    "\n",
    "optimizer = optim.Adam(model.parameters(), lr=0.001)\n",
    "\n",
    "criterion = nn.CrossEntropyLoss()"
   ]
  },
  {
   "cell_type": "code",
   "execution_count": 38,
   "id": "d1e6b01f-90e9-46a4-84b9-519fd9751ca9",
   "metadata": {},
   "outputs": [],
   "source": [
    "# Train, test and validate the model"
   ]
  },
  {
   "cell_type": "code",
   "execution_count": 34,
   "id": "466b15fe-fd5b-4bf4-ad22-06f6f0ff3235",
   "metadata": {},
   "outputs": [
    {
     "name": "stdout",
     "output_type": "stream",
     "text": [
      "Epoch 1/10, Train Loss: 1.4417, Val Loss: 0.3236, Val Acc: 94.16%\n",
      "Epoch 2/10, Train Loss: 0.5010, Val Loss: 0.1940, Val Acc: 94.90%\n",
      "Epoch 3/10, Train Loss: 0.3556, Val Loss: 0.1537, Val Acc: 95.69%\n",
      "Epoch 4/10, Train Loss: 0.2957, Val Loss: 0.1289, Val Acc: 96.00%\n",
      "Epoch 5/10, Train Loss: 0.2663, Val Loss: 0.1207, Val Acc: 96.49%\n",
      "Epoch 6/10, Train Loss: 0.2347, Val Loss: 0.1084, Val Acc: 96.80%\n",
      "Epoch 7/10, Train Loss: 0.2170, Val Loss: 0.0985, Val Acc: 97.11%\n",
      "Epoch 8/10, Train Loss: 0.2077, Val Loss: 0.0920, Val Acc: 97.23%\n",
      "Epoch 9/10, Train Loss: 0.1872, Val Loss: 0.0874, Val Acc: 97.42%\n",
      "Epoch 10/10, Train Loss: 0.1772, Val Loss: 0.0804, Val Acc: 97.17%\n"
     ]
    },
    {
     "data": {
      "image/png": "[encoded data removed]",
      "text/plain": [
       "<Figure size 640x480 with 1 Axes>"
      ]
     },
     "metadata": {},
     "output_type": "display_data"
    },
    {
     "name": "stdout",
     "output_type": "stream",
     "text": [
      "Model saved!\n",
      "Test Loss: 0.0627, Test Accuracy: 97.98%\n"
     ]
    }
   ],
   "source": [
    "num_epochs = 10\n",
    "train_losses = []\n",
    "val_losses = []\n",
    "val_accuracies = []\n",
    "\n",
    "for epoch in range(num_epochs):\n",
    "    model.train()\n",
    "    running_loss = 0.0\n",
    "\n",
    "    for images, labels in train_loader:\n",
    "        images, labels = images.to(device), labels.to(device)\n",
    "\n",
    "        optimizer.zero_grad()\n",
    "        outputs = model(images)\n",
    "        loss = criterion(outputs, labels)\n",
    "        loss.backward()\n",
    "        optimizer.step()\n",
    "\n",
    "        running_loss += loss.item()\n",
    "\n",
    "    train_loss = running_loss / len(train_loader)\n",
    "    train_losses.append(train_loss)\n",
    "\n",
    "    # Validation phase\n",
    "    model.eval()\n",
    "    val_loss = 0.0\n",
    "    correct = 0\n",
    "    total = 0\n",
    "\n",
    "    with torch.no_grad():\n",
    "        for images, labels in val_loader:\n",
    "            images, labels = images.to(device), labels.to(device)\n",
    "            outputs = model(images)\n",
    "            loss = criterion(outputs, labels)\n",
    "            val_loss += loss.item()\n",
    "\n",
    "            _, predicted = torch.max(outputs, 1)\n",
    "            correct += (predicted == labels).sum().item()\n",
    "            total += labels.size(0)\n",
    "\n",
    "    val_loss /= len(val_loader)\n",
    "    val_losses.append(val_loss)\n",
    "    val_accuracy = 100 * correct / total\n",
    "    val_accuracies.append(val_accuracy)\n",
    "\n",
    "    print(f\"Epoch {epoch+1}/{num_epochs}, Train Loss: {train_loss:.4f}, Val Loss: {val_loss:.4f}, Val Acc: {val_accuracy:.2f}%\")\n",
    "\n",
    "# Plot loss curves\n",
    "plt.plot(range(1, num_epochs+1), train_losses, label=\"Train Loss\")\n",
    "plt.plot(range(1, num_epochs+1), val_losses, label=\"Validation Loss\")\n",
    "plt.xlabel(\"Epoch\")\n",
    "plt.ylabel(\"Loss\")\n",
    "plt.legend()\n",
    "plt.show()\n",
    "\n",
    "# Save the trained model\n",
    "torch.save(model.state_dict(), \"digit_classifier.pt\")\n",
    "print(\"Model saved!\")\n",
    "\n",
    "# Testing phase\n",
    "model.eval()\n",
    "correct = 0\n",
    "total = 0\n",
    "test_loss = 0.0\n",
    "\n",
    "with torch.no_grad():\n",
    "    for images, labels in test_loader:\n",
    "        images, labels = images.to(device), labels.to(device)\n",
    "        outputs = model(images)\n",
    "        loss = criterion(outputs, labels)\n",
    "        test_loss += loss.item()\n",
    "\n",
    "        _, predicted = torch.max(outputs, 1)\n",
    "        correct += (predicted == labels).sum().item()\n",
    "        total += labels.size(0)\n",
    "\n",
    "test_loss /= len(test_loader)\n",
    "test_accuracy = 100 * correct / total\n",
    "\n",
    "print(f\"Test Loss: {test_loss:.4f}, Test Accuracy: {test_accuracy:.2f}%\")"
   ]
  }
 ],
 "metadata": {
  "kernelspec": {
   "display_name": "Python 3 (ipykernel)",
   "language": "python",
   "name": "python3"
  },
  "language_info": {
   "codemirror_mode": {
    "name": "ipython",
    "version": 3
   },
   "file_extension": ".py",
   "mimetype": "text/x-python",
   "name": "python",
   "nbconvert_exporter": "python",
   "pygments_lexer": "ipython3",
   "version": "3.11.9"
  }
 },
 "nbformat": 4,
 "nbformat_minor": 5
}
